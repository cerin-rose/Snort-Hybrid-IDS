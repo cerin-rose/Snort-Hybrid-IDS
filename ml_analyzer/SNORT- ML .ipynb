{
 "cells": [
  {
   "cell_type": "code",
   "execution_count": 1,
   "id": "5b5ae616",
   "metadata": {},
   "outputs": [],
   "source": [
    "import pandas as pd\n",
    "import numpy as np\n",
    "import matplotlib.pyplot as plt\n",
    "import seaborn as sns\n",
    "from sklearn.preprocessing import StandardScaler\n",
    "from sklearn.model_selection import train_test_split\n",
    "from sklearn.metrics import classification_report, confusion_matrix, accuracy_score, precision_recall_fscore_support, roc_curve, roc_auc_score\n",
    "import time\n",
    "import warnings\n",
    "import joblib\n",
    "import os\n",
    "from sklearn.ensemble import IsolationForest\n",
    "from sklearn.neighbors import LocalOutlierFactor\n",
    "from sklearn.svm import OneClassSVM\n",
    "from sklearn.covariance import EllipticEnvelope\n",
    "from sklearn.cluster import MiniBatchKMeans\n",
    "from sklearn.mixture import GaussianMixture\n",
    "\n",
    "warnings.filterwarnings('ignore')\n"
   ]
  },
  {
   "cell_type": "code",
   "execution_count": 9,
   "id": "bb245ec8",
   "metadata": {},
   "outputs": [],
   "source": [
    "df = pd.read_csv(\"cicids2017_cleaned.csv\")\n"
   ]
  },
  {
   "cell_type": "code",
   "execution_count": 10,
   "id": "f88e7c06",
   "metadata": {},
   "outputs": [
    {
     "name": "stdout",
     "output_type": "stream",
     "text": [
      "<class 'pandas.core.frame.DataFrame'>\n",
      "RangeIndex: 2520751 entries, 0 to 2520750\n",
      "Data columns (total 53 columns):\n",
      " #   Column                       Dtype  \n",
      "---  ------                       -----  \n",
      " 0   Destination Port             int64  \n",
      " 1   Flow Duration                int64  \n",
      " 2   Total Fwd Packets            int64  \n",
      " 3   Total Length of Fwd Packets  int64  \n",
      " 4   Fwd Packet Length Max        int64  \n",
      " 5   Fwd Packet Length Min        int64  \n",
      " 6   Fwd Packet Length Mean       float64\n",
      " 7   Fwd Packet Length Std        float64\n",
      " 8   Bwd Packet Length Max        int64  \n",
      " 9   Bwd Packet Length Min        int64  \n",
      " 10  Bwd Packet Length Mean       float64\n",
      " 11  Bwd Packet Length Std        float64\n",
      " 12  Flow Bytes/s                 float64\n",
      " 13  Flow Packets/s               float64\n",
      " 14  Flow IAT Mean                float64\n",
      " 15  Flow IAT Std                 float64\n",
      " 16  Flow IAT Max                 int64  \n",
      " 17  Flow IAT Min                 int64  \n",
      " 18  Fwd IAT Total                int64  \n",
      " 19  Fwd IAT Mean                 float64\n",
      " 20  Fwd IAT Std                  float64\n",
      " 21  Fwd IAT Max                  int64  \n",
      " 22  Fwd IAT Min                  int64  \n",
      " 23  Bwd IAT Total                int64  \n",
      " 24  Bwd IAT Mean                 float64\n",
      " 25  Bwd IAT Std                  float64\n",
      " 26  Bwd IAT Max                  int64  \n",
      " 27  Bwd IAT Min                  int64  \n",
      " 28  Fwd Header Length            int64  \n",
      " 29  Bwd Header Length            int64  \n",
      " 30  Fwd Packets/s                float64\n",
      " 31  Bwd Packets/s                float64\n",
      " 32  Min Packet Length            int64  \n",
      " 33  Max Packet Length            int64  \n",
      " 34  Packet Length Mean           float64\n",
      " 35  Packet Length Std            float64\n",
      " 36  Packet Length Variance       float64\n",
      " 37  FIN Flag Count               int64  \n",
      " 38  PSH Flag Count               int64  \n",
      " 39  ACK Flag Count               int64  \n",
      " 40  Average Packet Size          float64\n",
      " 41  Subflow Fwd Bytes            int64  \n",
      " 42  Init_Win_bytes_forward       int64  \n",
      " 43  Init_Win_bytes_backward      int64  \n",
      " 44  act_data_pkt_fwd             int64  \n",
      " 45  min_seg_size_forward         int64  \n",
      " 46  Active Mean                  float64\n",
      " 47  Active Max                   int64  \n",
      " 48  Active Min                   int64  \n",
      " 49  Idle Mean                    float64\n",
      " 50  Idle Max                     int64  \n",
      " 51  Idle Min                     int64  \n",
      " 52  Attack Type                  object \n",
      "dtypes: float64(20), int64(32), object(1)\n",
      "memory usage: 1019.3+ MB\n"
     ]
    }
   ],
   "source": [
    "df.info()"
   ]
  },
  {
   "cell_type": "code",
   "execution_count": 12,
   "id": "b131434b",
   "metadata": {},
   "outputs": [
    {
     "data": {
      "text/plain": [
       "Index(['Destination Port', 'Flow Duration', 'Total Fwd Packets',\n",
       "       'Total Length of Fwd Packets', 'Fwd Packet Length Max',\n",
       "       'Fwd Packet Length Min', 'Fwd Packet Length Mean',\n",
       "       'Fwd Packet Length Std', 'Bwd Packet Length Max',\n",
       "       'Bwd Packet Length Min', 'Bwd Packet Length Mean',\n",
       "       'Bwd Packet Length Std', 'Flow Bytes/s', 'Flow Packets/s',\n",
       "       'Flow IAT Mean', 'Flow IAT Std', 'Flow IAT Max', 'Flow IAT Min',\n",
       "       'Fwd IAT Total', 'Fwd IAT Mean', 'Fwd IAT Std', 'Fwd IAT Max',\n",
       "       'Fwd IAT Min', 'Bwd IAT Total', 'Bwd IAT Mean', 'Bwd IAT Std',\n",
       "       'Bwd IAT Max', 'Bwd IAT Min', 'Fwd Header Length', 'Bwd Header Length',\n",
       "       'Fwd Packets/s', 'Bwd Packets/s', 'Min Packet Length',\n",
       "       'Max Packet Length', 'Packet Length Mean', 'Packet Length Std',\n",
       "       'Packet Length Variance', 'FIN Flag Count', 'PSH Flag Count',\n",
       "       'ACK Flag Count', 'Average Packet Size', 'Subflow Fwd Bytes',\n",
       "       'Init_Win_bytes_forward', 'Init_Win_bytes_backward', 'act_data_pkt_fwd',\n",
       "       'min_seg_size_forward', 'Active Mean', 'Active Max', 'Active Min',\n",
       "       'Idle Mean', 'Idle Max', 'Idle Min', 'Attack Type'],\n",
       "      dtype='object')"
      ]
     },
     "execution_count": 12,
     "metadata": {},
     "output_type": "execute_result"
    }
   ],
   "source": [
    "df.columns"
   ]
  },
  {
   "cell_type": "code",
   "execution_count": 2,
   "id": "eaf52a15",
   "metadata": {},
   "outputs": [],
   "source": [
    "sample_size = 10000\n",
    "if df.shape[0] > sample_size:\n",
    "    df = df.sample(n=sample_size, random_state=42)\n",
    "\n",
    "df.replace([np.inf, -np.inf], np.nan, inplace=True)\n",
    "numeric_cols = df.select_dtypes(include=np.number).columns\n",
    "df[numeric_cols] = df[numeric_cols].fillna(df[numeric_cols].median())\n",
    "\n",
    "if 'Attack Type' in df.columns:\n",
    "    df['Label_binary'] = df['Attack Type'].apply(lambda x: 0 if x == 'Normal Traffic' or x == 'BENIGN' else 1)\n",
    "    X = df.drop(['Attack Type', 'Label_binary'], axis=1)\n",
    "elif 'Label' in df.columns:\n",
    "    df['Label_binary'] = df['Label'].apply(lambda x: 0 if x == 'Normal Traffic' or x == 'BENIGN' else 1)\n",
    "    X = df.drop(['Label', 'Label_binary'], axis=1)\n",
    "else:\n",
    "    X = df.drop(['Label_binary'], axis=1)\n",
    "\n",
    "y = df['Label_binary']\n",
    "X_scaled = pd.DataFrame(StandardScaler().fit_transform(X), columns=X.columns)\n",
    "X_train, X_test, y_train, y_test = train_test_split(X_scaled, y, test_size=0.3, random_state=42, stratify=y)\n"
   ]
  },
  {
   "cell_type": "code",
   "execution_count": 26,
   "id": "72ae7f9f",
   "metadata": {},
   "outputs": [
    {
     "data": {
      "image/png": "[encoded data removed]",
      "text/plain": [
       "<Figure size 600x400 with 1 Axes>"
      ]
     },
     "metadata": {},
     "output_type": "display_data"
    }
   ],
   "source": [
    "import matplotlib.pyplot as plt\n",
    "import seaborn as sns\n",
    "from sklearn.decomposition import PCA\n",
    "from sklearn.preprocessing import StandardScaler\n",
    "import pandas as pd\n",
    "\n",
    "df_viz = df.sample(n=10000, random_state=42).copy()\n",
    "\n",
    "if 'Label_binary' not in df_viz.columns and 'Attack Type' in df_viz.columns:\n",
    "    df_viz['Label_binary'] = df_viz['Attack Type'].apply(lambda x: 0 if x in ['Normal Traffic', 'BENIGN'] else 1)\n",
    "\n",
    "# --- 1. Label Distribution ---\n",
    "plt.figure(figsize=(6, 4))\n",
    "sns.countplot(x='Label_binary', data=df_viz)\n",
    "plt.title(\"Label Distribution (0 = Normal, 1 = Attack)\")\n",
    "plt.xlabel(\"Label\")\n",
    "plt.ylabel(\"Count\")\n",
    "plt.tight_layout()\n",
    "plt.show()\n"
   ]
  },
  {
   "cell_type": "code",
   "execution_count": 3,
   "id": "bb46d71b",
   "metadata": {},
   "outputs": [],
   "source": [
    "models = [\n",
    "    (IsolationForest(n_estimators=50, max_samples=256, contamination=0.1, random_state=42, n_jobs=2), \"Isolation Forest\"),\n",
    "    (LocalOutlierFactor(n_neighbors=10, contamination=0.1, novelty=True, n_jobs=2), \"Local Outlier Factor\"),\n",
    "    (OneClassSVM(kernel='linear', gamma='scale', nu=0.1), \"One-Class SVM\"),\n",
    "    (EllipticEnvelope(contamination=0.1, random_state=42, support_fraction=0.8), \"Elliptic Envelope\"),\n",
    "    (MiniBatchKMeans(n_clusters=2, random_state=42, batch_size=1024, max_iter=100), \"K-Means\"),\n",
    "    (GaussianMixture(n_components=2, covariance_type='diag', random_state=42, max_iter=100, tol=0.01), \"Gaussian Mixture\")\n",
    "]\n"
   ]
  },
  {
   "cell_type": "code",
   "execution_count": 5,
   "id": "4d88f385",
   "metadata": {},
   "outputs": [
    {
     "name": "stdout",
     "output_type": "stream",
     "text": [
      "\n",
      "Training Isolation Forest...\n",
      "Isolation Forest trained in 0.12 seconds\n",
      "\n",
      "Training Local Outlier Factor...\n",
      "Local Outlier Factor trained in 0.40 seconds\n",
      "\n",
      "Training One-Class SVM...\n",
      "One-Class SVM trained in 0.37 seconds\n",
      "\n",
      "Training Elliptic Envelope...\n",
      "Elliptic Envelope trained in 1.27 seconds\n",
      "\n",
      "Training K-Means...\n",
      "K-Means trained in 0.07 seconds\n",
      "\n",
      "Training Gaussian Mixture...\n",
      "Gaussian Mixture trained in 0.06 seconds\n"
     ]
    }
   ],
   "source": [
    "results = []\n",
    "\n",
    "# Reset index once to simplify downstream access\n",
    "X_train = X_train.reset_index(drop=True)\n",
    "X_test = X_test.reset_index(drop=True)\n",
    "y_train = y_train.reset_index(drop=True)\n",
    "y_test = y_test.reset_index(drop=True)\n",
    "\n",
    "for model, name in models:\n",
    "    print(f\"\\nTraining {name}...\")\n",
    "    start_time = time.time()\n",
    "    \n",
    "    try:\n",
    "        if name in [\"Isolation Forest\", \"Local Outlier Factor\", \"One-Class SVM\", \"Elliptic Envelope\", \"K-Means\", \"Gaussian Mixture\"]:\n",
    "            normal_indices = y_train[y_train == 0].index\n",
    "            sampled_indices = np.random.choice(normal_indices, size=min(10000, len(normal_indices)), replace=False)\n",
    "            X_train_sample = X_train.iloc[sampled_indices]\n",
    "            model.fit(X_train_sample)\n",
    "\n",
    "            test_sample_size = min(20000, X_test.shape[0])\n",
    "            X_test_sample = X_test.iloc[:test_sample_size]\n",
    "            y_test_sample = y_test.iloc[:test_sample_size]\n",
    "\n",
    "            y_pred = model.predict(X_test_sample)\n",
    "            if np.any(np.isin(y_pred, [-1, 1])):\n",
    "                y_pred = np.where(y_pred == -1, 1, 0)\n",
    "            decision_scores = model.decision_function(X_test_sample) if hasattr(model, 'decision_function') else None\n",
    "\n",
    "        else:\n",
    "            train_sample_size = min(20000, X_train.shape[0])\n",
    "            train_indices = np.random.choice(X_train.index, size=train_sample_size, replace=False)\n",
    "            X_train_sample = X_train.iloc[train_indices]\n",
    "            y_train_sample = y_train.iloc[train_indices]\n",
    "            model.fit(X_train_sample, y_train_sample)\n",
    "\n",
    "            test_sample_size = min(20000, X_test.shape[0])\n",
    "            X_test_sample = X_test.iloc[:test_sample_size]\n",
    "            y_test_sample = y_test.iloc[:test_sample_size]\n",
    "\n",
    "            y_pred = model.predict(X_test_sample)\n",
    "            decision_scores = model.predict_proba(X_test_sample)[:, 1] if hasattr(model, 'predict_proba') else None\n",
    "\n",
    "        duration = time.time() - start_time\n",
    "        print(f\"{name} trained in {duration:.2f} seconds\")\n",
    "\n",
    "        accuracy = accuracy_score(y_test_sample, y_pred)\n",
    "        precision, recall, f1, _ = precision_recall_fscore_support(y_test_sample, y_pred, average='binary')\n",
    "        auc = roc_auc_score(y_test_sample, decision_scores) if decision_scores is not None else None\n",
    "\n",
    "        results.append({\n",
    "            'Model': name,\n",
    "            'Accuracy': accuracy,\n",
    "            'Precision': precision,\n",
    "            'Recall': recall,\n",
    "            'F1 Score': f1,\n",
    "            'AUC': auc,\n",
    "            'Training Time (s)': duration\n",
    "        })\n",
    "\n",
    "    except Exception as e:\n",
    "        print(f\"Error training {name}: {e}\")\n"
   ]
  },
  {
   "cell_type": "code",
   "execution_count": 6,
   "id": "807b177e",
   "metadata": {},
   "outputs": [
    {
     "name": "stdout",
     "output_type": "stream",
     "text": [
      "                  Model  Accuracy  Precision    Recall  F1 Score       AUC  \\\n",
      "2         One-Class SVM  0.867000   0.588034  0.685259  0.632935  0.264511   \n",
      "1  Local Outlier Factor  0.863667   0.582888  0.651394  0.615240  0.124311   \n",
      "0      Isolation Forest  0.867000   0.600000  0.615538  0.607670  0.177631   \n",
      "3     Elliptic Envelope  0.823000   0.460705  0.338645  0.390356  0.181380   \n",
      "4               K-Means  0.832667   0.000000  0.000000  0.000000       NaN   \n",
      "5      Gaussian Mixture  0.832667   0.000000  0.000000  0.000000       NaN   \n",
      "\n",
      "   Training Time (s)  \n",
      "2           0.373095  \n",
      "1           0.400063  \n",
      "0           0.115656  \n",
      "3           1.272385  \n",
      "4           0.070172  \n",
      "5           0.059352  \n"
     ]
    }
   ],
   "source": [
    "results_df = pd.DataFrame(results).sort_values('F1 Score', ascending=False)\n",
    "print(results_df)\n"
   ]
  },
  {
   "cell_type": "code",
   "execution_count": 17,
   "id": "6e704d0d",
   "metadata": {},
   "outputs": [
    {
     "data": {
      "image/png": "[encoded data removed]",
      "text/plain": [
       "<Figure size 1000x600 with 1 Axes>"
      ]
     },
     "metadata": {},
     "output_type": "display_data"
    }
   ],
   "source": [
    "plt.figure(figsize=(10, 6))\n",
    "results_df_sorted = results_df.sort_values('Training Time (s)', ascending=True)\n",
    "plt.barh(results_df_sorted['Model'], results_df_sorted['Training Time (s)'])\n",
    "plt.title('Training Time by Model')\n",
    "plt.xlabel('Seconds')\n",
    "plt.ylabel('Model')\n",
    "plt.grid(True, linestyle='--', alpha=0.5)\n",
    "plt.tight_layout()\n",
    "plt.show()\n"
   ]
  },
  {
   "cell_type": "code",
   "execution_count": 31,
   "id": "e8409e67",
   "metadata": {},
   "outputs": [
    {
     "name": "stdout",
     "output_type": "stream",
     "text": [
      "\n",
      " Training: Isolation Forest\n",
      " Model saved: saved_models\\isolation_forest.pkl\n",
      "\n",
      " Training: Local Outlier Factor\n",
      " Model saved: saved_models\\local_outlier_factor.pkl\n",
      "\n",
      " Training: One-Class SVM\n",
      " Model saved: saved_models\\oneclass_svm.pkl\n",
      "\n",
      " Training: Elliptic Envelope\n",
      " Model saved: saved_models\\elliptic_envelope.pkl\n",
      "\n",
      " Training: K-Means\n",
      " Model saved: saved_models\\kmeans.pkl\n",
      "\n",
      " Training: Gaussian Mixture\n",
      " Model saved: saved_models\\gaussian_mixture.pkl\n"
     ]
    }
   ],
   "source": [
    "import joblib\n",
    "import os\n",
    "import numpy as np\n",
    "\n",
    "# Ensure output directory exists\n",
    "os.makedirs(\"saved_models\", exist_ok=True)\n",
    "\n",
    "# Loop through each model\n",
    "for model, name in models:\n",
    "    print(f\"\\n Training: {name}\")\n",
    "    try:\n",
    "        # For unsupervised models, train on normal data only\n",
    "        if name in [\"Isolation Forest\", \"Local Outlier Factor\", \"One-Class SVM\", \"Elliptic Envelope\", \"K-Means\", \"Gaussian Mixture\"]:\n",
    "            normal_indices = y_train[y_train == 0].index\n",
    "            sampled_indices = np.random.choice(normal_indices, size=min(10000, len(normal_indices)), replace=False)\n",
    "            X_train_sample = X_train.iloc[sampled_indices]\n",
    "            model.fit(X_train_sample)\n",
    "        else:\n",
    "            model.fit(X_train, y_train)\n",
    "\n",
    "        # Save the trained model\n",
    "        filename = name.lower().replace(\" \", \"_\").replace(\"-\", \"\") + \".pkl\"\n",
    "        filepath = os.path.join(\"saved_models\", filename)\n",
    "        joblib.dump(model, filepath)\n",
    "        print(f\" Model saved: {filepath}\")\n",
    "        \n",
    "    except Exception as e:\n",
    "        print(f\" Error training/saving {name}: {e}\")\n"
   ]
  }
 ],
 "metadata": {
  "kernelspec": {
   "display_name": "Python 3 (ipykernel)",
   "language": "python",
   "name": "python3"
  },
  "language_info": {
   "codemirror_mode": {
    "name": "ipython",
    "version": 3
   },
   "file_extension": ".py",
   "mimetype": "text/x-python",
   "name": "python",
   "nbconvert_exporter": "python",
   "pygments_lexer": "ipython3",
   "version": "3.11.9"
  }
 },
 "nbformat": 4,
 "nbformat_minor": 5
}
